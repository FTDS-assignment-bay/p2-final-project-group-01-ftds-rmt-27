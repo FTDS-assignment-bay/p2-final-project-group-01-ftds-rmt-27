{
  "cells": [
    {
      "cell_type": "markdown",
      "metadata": {
        "id": "OutqpBaQsxuH"
      },
      "source": [
        "#Import Library"
      ]
    },
    {
      "cell_type": "code",
      "execution_count": 18,
      "metadata": {
        "id": "CqqVQzVyofSN"
      },
      "outputs": [],
      "source": [
        "import pandas as pd\n",
        "import matplotlib.pyplot as plt\n",
        "from datetime import datetime, timedelta\n",
        "\n",
        "# Preprocessing\n",
        "import sklearn\n",
        "from sklearn.model_selection import train_test_split\n",
        "from sklearn.preprocessing import MinMaxScaler, StandardScaler, PolynomialFeatures\n",
        "from sklearn.pipeline import Pipeline, make_pipeline\n",
        "from sklearn.model_selection import GridSearchCV\n",
        "\n",
        "# Modelling\n",
        "from sklearn.linear_model import LinearRegression\n",
        "\n",
        "# Evaluation\n",
        "from sklearn.metrics import mean_absolute_error, mean_squared_error,explained_variance_score,r2_score\n",
        "\n",
        "# Saving\n",
        "import pickle\n",
        "from joblib import dump"
      ]
    },
    {
      "cell_type": "code",
      "execution_count": 19,
      "metadata": {},
      "outputs": [
        {
          "name": "stdout",
          "output_type": "stream",
          "text": [
            "1.4.1.post1\n"
          ]
        }
      ],
      "source": [
        "print(sklearn.__version__)"
      ]
    },
    {
      "cell_type": "markdown",
      "metadata": {
        "id": "vqZMMYhhpYeW"
      },
      "source": [
        "# Load Dataset"
      ]
    },
    {
      "cell_type": "code",
      "execution_count": 20,
      "metadata": {
        "id": "LfhBPNArpOaP"
      },
      "outputs": [],
      "source": [
        "jakarta_premium = pd.read_csv('https://raw.githubusercontent.com/FTDS-assignment-bay/p2-final-project-group-01-ftds-rmt-27/main/jakarta_premium.csv')"
      ]
    },
    {
      "cell_type": "code",
      "execution_count": 21,
      "metadata": {
        "id": "zqLTX70csPDU"
      },
      "outputs": [],
      "source": [
        "jakarta_premium['Tanggal'] = pd.to_datetime(jakarta_premium['Tanggal'], format=\"%Y-%m-%d\")\n",
        "jakarta_premium = jakarta_premium.set_index('Tanggal')['Harga']"
      ]
    },
    {
      "cell_type": "code",
      "execution_count": 22,
      "metadata": {
        "id": "YW3o0TnypFdQ"
      },
      "outputs": [
        {
          "name": "stderr",
          "output_type": "stream",
          "text": [
            "C:\\Users\\skite\\AppData\\Local\\Temp\\ipykernel_13340\\4195215405.py:10: FutureWarning: Series.__getitem__ treating keys as positions is deprecated. In a future version, integer keys will always be treated as labels (consistent with DataFrame behavior). To access a value by position, use `ser.iloc[pos]`\n",
            "  y.append(jakarta_premium[window+i])\n"
          ]
        }
      ],
      "source": [
        "import numpy as np\n",
        "\n",
        "window = 3\n",
        "X = []\n",
        "y = []\n",
        "for i in range(window,len(jakarta_premium)):\n",
        "  if window+i<len(jakarta_premium):\n",
        "    X.append(jakarta_premium[i:window+i].values.tolist())\n",
        "    try:\n",
        "      y.append(jakarta_premium[window+i])\n",
        "    except:\n",
        "      pass\n",
        "  else:\n",
        "    break\n",
        "\n",
        "X = np.array(X)\n",
        "y = np.array(y)"
      ]
    },
    {
      "cell_type": "markdown",
      "metadata": {
        "id": "fDVmzYXDpcm3"
      },
      "source": [
        "# Split Train, test set"
      ]
    },
    {
      "cell_type": "code",
      "execution_count": 23,
      "metadata": {
        "id": "k5Djdnw_pHBg"
      },
      "outputs": [],
      "source": [
        "train_size = round(len(X)*0.85)\n",
        "X_train = X[:train_size]\n",
        "y_train = y[:train_size]\n",
        "\n",
        "X_test = X[train_size:]\n",
        "y_test = y[train_size:]"
      ]
    },
    {
      "cell_type": "markdown",
      "metadata": {
        "id": "dDIrAeu-phaf"
      },
      "source": [
        "# Model Definition"
      ]
    },
    {
      "cell_type": "code",
      "execution_count": 24,
      "metadata": {
        "id": "m6ROV7eeo8b4"
      },
      "outputs": [],
      "source": [
        "poly_model = LinearRegression()"
      ]
    },
    {
      "cell_type": "markdown",
      "metadata": {
        "id": "TLWE6wm5pjto"
      },
      "source": [
        "# Model Training"
      ]
    },
    {
      "cell_type": "code",
      "execution_count": 25,
      "metadata": {
        "colab": {
          "base_uri": "https://localhost:8080/"
        },
        "id": "ID_jD9Jmpk1W",
        "outputId": "b4d453cc-ad86-42b8-8be0-3ae0ff67a339"
      },
      "outputs": [
        {
          "name": "stdout",
          "output_type": "stream",
          "text": [
            "Best polynomial degree:  2\n",
            "Best estimator:  Pipeline(steps=[('convert_to_poly_features', PolynomialFeatures()),\n",
            "                ('scaler', StandardScaler()),\n",
            "                ('polynomial_regressor', LinearRegression())])\n"
          ]
        }
      ],
      "source": [
        "# define the pipeline\n",
        "polynomial_pipeline = Pipeline([\n",
        "    # step 1: convert X_train into polynomial features\n",
        "    ('convert_to_poly_features',PolynomialFeatures()),\n",
        "    # step 2: scale the newly made features\n",
        "    ('scaler', MinMaxScaler()),\n",
        "    # step 3: train the model\n",
        "    ('polynomial_regressor', LinearRegression())\n",
        "])\n",
        "\n",
        "# define the parameters (check which polynomial feature degree suits best)\n",
        "parameter_grid = {\n",
        "    'convert_to_poly_features__degree':[2,4,6,8],\n",
        "    'scaler' : [StandardScaler()],\n",
        "}\n",
        "\n",
        "# initialize GridSearchCV with 5 times cross validations, scoring criteria explained variance score\n",
        "poly_grid_search = GridSearchCV(polynomial_pipeline, parameter_grid, cv =5, scoring = 'explained_variance')\n",
        "\n",
        "# fit the model\n",
        "poly_grid_search.fit(X_train, y_train)\n",
        "\n",
        "# get the best polynomial degree and best estimator\n",
        "best_poly_degree = poly_grid_search.best_params_['convert_to_poly_features__degree']\n",
        "poly_best_estimator = poly_grid_search.best_estimator_\n",
        "\n",
        "# print the results\n",
        "print(\"Best polynomial degree: \", best_poly_degree)\n",
        "print(\"Best estimator: \", poly_best_estimator)"
      ]
    },
    {
      "cell_type": "code",
      "execution_count": 26,
      "metadata": {
        "id": "lbrIE4KCpweo"
      },
      "outputs": [],
      "source": [
        "# fitting\n",
        "poly_best_estimator.fit(X_train, y_train)\n",
        "\n",
        "# predict the training set\n",
        "y_pred_train_poly = poly_best_estimator.predict(X_train)\n",
        "\n",
        "# Predict on the test set using the best estimator\n",
        "y_test_pred_poly = poly_best_estimator.predict(X_test)\n"
      ]
    },
    {
      "cell_type": "markdown",
      "metadata": {
        "id": "Lp9rNZaSpxsA"
      },
      "source": [
        "#Model Evaluation"
      ]
    },
    {
      "cell_type": "code",
      "execution_count": 27,
      "metadata": {
        "colab": {
          "base_uri": "https://localhost:8080/"
        },
        "id": "wD6HfrGUpzjI",
        "outputId": "252f9d7b-007c-4d99-ceba-4adce05988a5"
      },
      "outputs": [
        {
          "name": "stdout",
          "output_type": "stream",
          "text": [
            "Train MAE: 40.35185582108343\n",
            "Train RMSE: 87.14092756600986\n",
            "-----------------------------------------------------\n",
            "Test MAE: 112.70189941161395\n",
            "Test RMSE: 159.10012414697616\n"
          ]
        },
        {
          "name": "stderr",
          "output_type": "stream",
          "text": [
            "e:\\Anacondaa\\Lib\\site-packages\\sklearn\\metrics\\_regression.py:483: FutureWarning: 'squared' is deprecated in version 1.4 and will be removed in 1.6. To calculate the root mean squared error, use the function'root_mean_squared_error'.\n",
            "  warnings.warn(\n",
            "e:\\Anacondaa\\Lib\\site-packages\\sklearn\\metrics\\_regression.py:483: FutureWarning: 'squared' is deprecated in version 1.4 and will be removed in 1.6. To calculate the root mean squared error, use the function'root_mean_squared_error'.\n",
            "  warnings.warn(\n"
          ]
        }
      ],
      "source": [
        "print('Train MAE:',mean_absolute_error(y_train,y_pred_train_poly))\n",
        "print('Train RMSE:',mean_squared_error(y_train,y_pred_train_poly, squared=False))\n",
        "print('-----------------------------------------------------')\n",
        "print('Test MAE:',mean_absolute_error(y_test,y_test_pred_poly))\n",
        "print('Test RMSE:',mean_squared_error(y_test,y_test_pred_poly, squared=False))"
      ]
    },
    {
      "cell_type": "code",
      "execution_count": 28,
      "metadata": {
        "colab": {
          "base_uri": "https://localhost:8080/"
        },
        "id": "xIEIo6c0p1hh",
        "outputId": "8bc10ad8-2e88-4158-b97c-57d1c68dd95f"
      },
      "outputs": [
        {
          "name": "stdout",
          "output_type": "stream",
          "text": [
            "Train data explained variance regression score: 0.9913377695068513\n",
            "Test data explained variance regression score: 0.9563314769792998\n"
          ]
        }
      ],
      "source": [
        "print(\"Train data explained variance regression score:\", explained_variance_score(y_train,y_pred_train_poly))\n",
        "print(\"Test data explained variance regression score:\", explained_variance_score(y_test,y_test_pred_poly))"
      ]
    },
    {
      "cell_type": "code",
      "execution_count": 29,
      "metadata": {
        "colab": {
          "base_uri": "https://localhost:8080/"
        },
        "id": "fWKZpP3Xp3hv",
        "outputId": "b30021bb-07b8-4442-87bf-9cbda796c14d"
      },
      "outputs": [
        {
          "name": "stdout",
          "output_type": "stream",
          "text": [
            "Train data R2 score: 0.9913377695068513\n",
            "Test data R2 score: 0.9439303176785184\n"
          ]
        }
      ],
      "source": [
        "print(\"Train data R2 score:\", r2_score(y_train,y_pred_train_poly))\n",
        "print(\"Test data R2 score:\", r2_score(y_test,y_test_pred_poly))"
      ]
    },
    {
      "cell_type": "code",
      "execution_count": 30,
      "metadata": {
        "colab": {
          "base_uri": "https://localhost:8080/",
          "height": 433
        },
        "id": "xHFmxJ6_p5Rg",
        "outputId": "13c9bad7-9787-420b-c846-aeb0e10b412d"
      },
      "outputs": [
        {
          "data": {
            "image/png": "[encoded data removed]",
            "text/plain": [
              "<Figure size 640x480 with 1 Axes>"
            ]
          },
          "metadata": {},
          "output_type": "display_data"
        }
      ],
      "source": [
        "plt.plot(jakarta_premium.index[window:-window],np.append(y_pred_train_poly,y_test_pred_poly), color = 'blue',linewidth = 0.8)\n",
        "jakarta_premium.plot(color='red', linewidth = 0.8)\n",
        "plt.legend()\n",
        "plt.show()"
      ]
    },
    {
      "cell_type": "markdown",
      "metadata": {
        "id": "BitDf5sSp94A"
      },
      "source": [
        "#Model Inference"
      ]
    },
    {
      "cell_type": "code",
      "execution_count": 31,
      "metadata": {
        "id": "zAgucPVfp-p-"
      },
      "outputs": [],
      "source": [
        "# create forecasting function\n",
        "def forecasting_function(jakarta_premium, month, best_estimator):\n",
        "    jakarta_premium_forecast = jakarta_premium.copy()\n",
        "    window = 3\n",
        "\n",
        "    for i in range(month):\n",
        "        X = jakarta_premium_forecast[-window:].values.reshape(1, -1)\n",
        "        # Predict the next value using the best estimator and round it\n",
        "        next_value = round(best_estimator.predict(X)[0])\n",
        "        # Extract the last date and add one month to it\n",
        "        last_date = jakarta_premium_forecast.index[-1]\n",
        "        new_date = last_date + timedelta(days=30)  # Add one month (approximation)\n",
        "        # Append the predicted value to the forecast series with the new date index\n",
        "        jakarta_premium_forecast.loc[new_date] = next_value\n",
        "\n",
        "    return jakarta_premium_forecast"
      ]
    },
    {
      "cell_type": "code",
      "execution_count": 32,
      "metadata": {
        "colab": {
          "base_uri": "https://localhost:8080/",
          "height": 385
        },
        "id": "PQ7ewdLouiFZ",
        "outputId": "ef7d76de-0e8d-4c0a-ca7c-67c1246054d9"
      },
      "outputs": [
        {
          "data": {
            "text/plain": [
              "<matplotlib.legend.Legend at 0x1cd964ad050>"
            ]
          },
          "execution_count": 32,
          "metadata": {},
          "output_type": "execute_result"
        },
        {
          "data": {
            "image/png": "[encoded data removed]",
            "text/plain": [
              "<Figure size 2000x500 with 1 Axes>"
            ]
          },
          "metadata": {},
          "output_type": "display_data"
        }
      ],
      "source": [
        "jakarta_premium_forecast_poly = forecasting_function(jakarta_premium, 5,poly_best_estimator)\n",
        "jakarta_premium_forecast_poly.plot(color='blue',label='forecast',figsize=(20,5))\n",
        "jakarta_premium.plot(color='red',label='real')\n",
        "plt.legend()"
      ]
    },
    {
      "cell_type": "code",
      "execution_count": 33,
      "metadata": {
        "colab": {
          "base_uri": "https://localhost:8080/"
        },
        "id": "7abkW7w--PJn",
        "outputId": "ccaf3d42-d573-4296-b80f-0b64fbf78515"
      },
      "outputs": [
        {
          "name": "stdout",
          "output_type": "stream",
          "text": [
            "Tanggal\n",
            "2024-07-29    16724.0\n",
            "Name: Harga, dtype: float64\n"
          ]
        }
      ],
      "source": [
        "print(jakarta_premium_forecast_poly.tail(1))"
      ]
    },
    {
      "cell_type": "markdown",
      "metadata": {
        "id": "RvnfQGQ_qAJA"
      },
      "source": [
        "#Model Saving"
      ]
    },
    {
      "cell_type": "code",
      "execution_count": 34,
      "metadata": {
        "id": "r6ULvQK_qA8P"
      },
      "outputs": [
        {
          "data": {
            "text/plain": [
              "['jakarta.joblib']"
            ]
          },
          "execution_count": 34,
          "metadata": {},
          "output_type": "execute_result"
        }
      ],
      "source": [
        "with open(\"jakarta.pkl\", \"wb\") as f:\n",
        "    pickle.dump(poly_best_estimator, f)\n",
        "\n",
        "dump(poly_best_estimator, 'jakarta.joblib')"
      ]
    }
  ],
  "metadata": {
    "colab": {
      "provenance": []
    },
    "kernelspec": {
      "display_name": "Python 3",
      "name": "python3"
    },
    "language_info": {
      "codemirror_mode": {
        "name": "ipython",
        "version": 3
      },
      "file_extension": ".py",
      "mimetype": "text/x-python",
      "name": "python",
      "nbconvert_exporter": "python",
      "pygments_lexer": "ipython3",
      "version": "3.11.5"
    }
  },
  "nbformat": 4,
  "nbformat_minor": 0
}
